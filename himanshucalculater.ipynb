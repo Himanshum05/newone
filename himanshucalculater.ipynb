{
 "cells": [
  {
   "cell_type": "code",
   "execution_count": null,
   "id": "8ae2bfc1",
   "metadata": {},
   "outputs": [
    {
     "name": "stdout",
     "output_type": "stream",
     "text": [
      "Hello\n"
     ]
    }
   ],
   "source": [
    "print(\"Hello\")"
   ]
  },
  {
   "cell_type": "code",
   "execution_count": 1,
   "id": "5030760f",
   "metadata": {},
   "outputs": [
    {
     "name": "stdout",
     "output_type": "stream",
     "text": [
      "3\n"
     ]
    },
    {
     "data": {
      "text/plain": [
       "list"
      ]
     },
     "execution_count": 1,
     "metadata": {},
     "output_type": "execute_result"
    }
   ],
   "source": [
    "a=['h','i','m']\n",
    "print(len(a))\n",
    "type(a)"
   ]
  },
  {
   "cell_type": "code",
   "execution_count": 12,
   "id": "91ae9741",
   "metadata": {},
   "outputs": [
    {
     "name": "stdout",
     "output_type": "stream",
     "text": [
      "5\n"
     ]
    }
   ],
   "source": [
    "l=[0,2,3,'himanshu',[1,3,5],'nil',3,13]\n",
    "print(l[4][2])"
   ]
  },
  {
   "cell_type": "code",
   "execution_count": 3,
   "id": "288fcf09",
   "metadata": {},
   "outputs": [
    {
     "name": "stdout",
     "output_type": "stream",
     "text": [
      "[0, 2, 3, 'himanshu', [1, 3, 5], 'nil', 8]\n"
     ]
    }
   ],
   "source": [
    "l.append(8)\n",
    "print(l)"
   ]
  },
  {
   "cell_type": "code",
   "execution_count": 4,
   "id": "8596b26e",
   "metadata": {},
   "outputs": [
    {
     "name": "stdout",
     "output_type": "stream",
     "text": [
      "[0, 'hero', 2, 3, 'himanshu', [1, 3, 5], 'nil', 8]\n"
     ]
    }
   ],
   "source": [
    "l.insert(1,'hero')\n",
    "print(l)"
   ]
  },
  {
   "cell_type": "code",
   "execution_count": 5,
   "id": "50728be4",
   "metadata": {},
   "outputs": [
    {
     "name": "stdout",
     "output_type": "stream",
     "text": [
      "[0, 'hero', 2, 3, [1, 3, 5], 'nil', 8]\n"
     ]
    }
   ],
   "source": [
    "l.remove('himanshu')\n",
    "print(l)"
   ]
  },
  {
   "cell_type": "code",
   "execution_count": 8,
   "id": "11d2e115",
   "metadata": {},
   "outputs": [
    {
     "name": "stdout",
     "output_type": "stream",
     "text": [
      "[0, 3, [1, 3, 5], 'nil', 8]\n"
     ]
    }
   ],
   "source": [
    "l.pop(1)\n",
    "print(l)"
   ]
  },
  {
   "cell_type": "code",
   "execution_count": 9,
   "id": "b0dd6d5d",
   "metadata": {},
   "outputs": [
    {
     "data": {
      "text/plain": [
       "1"
      ]
     },
     "execution_count": 9,
     "metadata": {},
     "output_type": "execute_result"
    }
   ],
   "source": [
    "l.index(3)"
   ]
  },
  {
   "cell_type": "code",
   "execution_count": 13,
   "id": "8927a443",
   "metadata": {},
   "outputs": [
    {
     "data": {
      "text/plain": [
       "2"
      ]
     },
     "execution_count": 13,
     "metadata": {},
     "output_type": "execute_result"
    }
   ],
   "source": [
    "l.count(3)"
   ]
  },
  {
   "cell_type": "code",
   "execution_count": null,
   "id": "bfeef6bd",
   "metadata": {},
   "outputs": [],
   "source": [
    "l.sort()\n",
    "l.reverse()\n",
    "#sort function works on only the homogenius entity"
   ]
  },
  {
   "cell_type": "code",
   "execution_count": 33,
   "id": "b0ad1253",
   "metadata": {},
   "outputs": [
    {
     "data": {
      "text/plain": [
       "[302, 89, -45, 9, 0, 3, 2, 1]"
      ]
     },
     "execution_count": 33,
     "metadata": {},
     "output_type": "execute_result"
    }
   ],
   "source": [
    "l1 = [1,2,3,0,9,-45,89,302]\n",
    "#l1[2:7:1]\n",
    "l1[::-1]"
   ]
  },
  {
   "cell_type": "code",
   "execution_count": 52,
   "id": "88a1df53",
   "metadata": {},
   "outputs": [],
   "source": [
    "fruits =[\"apple\",\"banana\",\"cherry\",\"orange\",\"kiwi\",\"melon\",\"mango\"]"
   ]
  },
  {
   "cell_type": "code",
   "execution_count": 40,
   "id": "8f682755",
   "metadata": {},
   "outputs": [
    {
     "data": {
      "text/plain": [
       "'apple'"
      ]
     },
     "execution_count": 40,
     "metadata": {},
     "output_type": "execute_result"
    }
   ],
   "source": [
    "fruits.pop(0)"
   ]
  },
  {
   "cell_type": "code",
   "execution_count": 41,
   "id": "853c319a",
   "metadata": {},
   "outputs": [
    {
     "data": {
      "text/plain": [
       "6"
      ]
     },
     "execution_count": 41,
     "metadata": {},
     "output_type": "execute_result"
    }
   ],
   "source": [
    "len(fruits)"
   ]
  },
  {
   "cell_type": "code",
   "execution_count": 42,
   "id": "7f5708bc",
   "metadata": {},
   "outputs": [
    {
     "data": {
      "text/plain": [
       "'mango'"
      ]
     },
     "execution_count": 42,
     "metadata": {},
     "output_type": "execute_result"
    }
   ],
   "source": [
    "fruits[-1]"
   ]
  },
  {
   "cell_type": "code",
   "execution_count": 55,
   "id": "3550cc5c",
   "metadata": {},
   "outputs": [
    {
     "data": {
      "text/plain": [
       "['cherry', 'orange', 'kiwi']"
      ]
     },
     "execution_count": 55,
     "metadata": {},
     "output_type": "execute_result"
    }
   ],
   "source": [
    "fruits[2:5]"
   ]
  },
  {
   "cell_type": "code",
   "execution_count": 56,
   "id": "6ab6e6fc",
   "metadata": {},
   "outputs": [
    {
     "name": "stdout",
     "output_type": "stream",
     "text": [
      "['apple', 'banana', 'cherry', 'orange', 'kiwi', 'melon', 'mango', 'lichi']\n"
     ]
    }
   ],
   "source": [
    "fruits.append(\"lichi\")\n",
    "print(fruits)"
   ]
  },
  {
   "cell_type": "code",
   "execution_count": 57,
   "id": "9fdeed1c",
   "metadata": {},
   "outputs": [
    {
     "data": {
      "text/plain": [
       "'banana'"
      ]
     },
     "execution_count": 57,
     "metadata": {},
     "output_type": "execute_result"
    }
   ],
   "source": [
    "fruits.pop(1)"
   ]
  },
  {
   "cell_type": "code",
   "execution_count": 58,
   "id": "568fc5dd",
   "metadata": {},
   "outputs": [
    {
     "name": "stdout",
     "output_type": "stream",
     "text": [
      "['apple', 'cherry', 'orange', 'kiwi', 'melon', 'mango', 'lichi']\n"
     ]
    }
   ],
   "source": [
    "print(fruits)"
   ]
  },
  {
   "cell_type": "code",
   "execution_count": 60,
   "id": "c6078e1e",
   "metadata": {},
   "outputs": [
    {
     "name": "stdout",
     "output_type": "stream",
     "text": [
      "['apple', 'cherry', 'orange', 'kiwi', 'melon', 'mango', 'lichi', 'banana', 'grapes', 'pineapple', 'guva', 'papaya']\n"
     ]
    }
   ],
   "source": [
    "fruits=fruits+[\"banana\",\"grapes\",\"pineapple\",\"guva\",\"papaya\"]\n",
    "print(fruits)"
   ]
  },
  {
   "cell_type": "code",
   "execution_count": 61,
   "id": "54634e65",
   "metadata": {},
   "outputs": [
    {
     "data": {
      "text/plain": [
       "'melon'"
      ]
     },
     "execution_count": 61,
     "metadata": {},
     "output_type": "execute_result"
    }
   ],
   "source": [
    "fruits.pop(4)"
   ]
  },
  {
   "cell_type": "code",
   "execution_count": 62,
   "id": "ac9ce920",
   "metadata": {},
   "outputs": [],
   "source": [
    "fruits.sort()"
   ]
  },
  {
   "cell_type": "code",
   "execution_count": 63,
   "id": "00459376",
   "metadata": {},
   "outputs": [
    {
     "name": "stdout",
     "output_type": "stream",
     "text": [
      "['apple', 'banana', 'cherry', 'grapes', 'guva', 'kiwi', 'lichi', 'mango', 'orange', 'papaya', 'pineapple']\n"
     ]
    }
   ],
   "source": [
    "print(fruits)"
   ]
  },
  {
   "cell_type": "code",
   "execution_count": 64,
   "id": "c1d12f02",
   "metadata": {},
   "outputs": [
    {
     "data": {
      "text/plain": [
       "['pineapple',\n",
       " 'papaya',\n",
       " 'orange',\n",
       " 'mango',\n",
       " 'lichi',\n",
       " 'kiwi',\n",
       " 'guva',\n",
       " 'grapes',\n",
       " 'cherry',\n",
       " 'banana',\n",
       " 'apple']"
      ]
     },
     "execution_count": 64,
     "metadata": {},
     "output_type": "execute_result"
    }
   ],
   "source": [
    "fruits[::-1]"
   ]
  },
  {
   "cell_type": "code",
   "execution_count": 65,
   "id": "35f35ede",
   "metadata": {},
   "outputs": [],
   "source": []
  },
  {
   "cell_type": "code",
   "execution_count": 86,
   "id": "d5923cb2",
   "metadata": {},
   "outputs": [],
   "source": [
    "a=input(\"enter any string\")\n",
    "b=input(\"enter a string which is updated\")\n",
    "for x in range(len(fruits)):\n",
    "    if fruits[x]==a:\n",
    "        fruits[x]=b\n",
    "        print(fruits)\n",
    "    else:\n",
    "        pass\n"
   ]
  },
  {
   "cell_type": "code",
   "execution_count": 85,
   "id": "77094097",
   "metadata": {},
   "outputs": [
    {
     "name": "stdout",
     "output_type": "stream",
     "text": [
      "['apple', 'banana', 'cherry', 'grapes', 'guva', 'kiwi', 'lichi', 'ravi', 'orange', 'papaya', 'pineapple']\n"
     ]
    }
   ],
   "source": [
    "print(fruits)"
   ]
  },
  {
   "cell_type": "code",
   "execution_count": 87,
   "id": "df09cf43",
   "metadata": {},
   "outputs": [
    {
     "name": "stdout",
     "output_type": "stream",
     "text": [
      "['man', 'banana', 'cherry', 'grapes', 'guva', 'kiwi', 'lichi', 'ravi', 'orange', 'papaya', 'pineapple']\n"
     ]
    }
   ],
   "source": [
    "a=input(\"enter any string\")\n",
    "b=input(\"enter a string which is updated\")\n",
    "for x in range(len(fruits)):\n",
    "    if fruits[x]==a:\n",
    "        fruits[x]=b\n",
    "        print(fruits)\n",
    "    else:\n",
    "        pass"
   ]
  },
  {
   "cell_type": "code",
   "execution_count": 95,
   "id": "770ae46e",
   "metadata": {},
   "outputs": [
    {
     "data": {
      "text/plain": [
       "True"
      ]
     },
     "execution_count": 95,
     "metadata": {},
     "output_type": "execute_result"
    }
   ],
   "source": [
    "string = \"Happy Engineer's Day\"\n",
    "string.islower()\n",
    "string.isupper()\n",
    "string.title()\n",
    "string.endswith(\"y\")"
   ]
  },
  {
   "cell_type": "code",
   "execution_count": 116,
   "id": "ea41bb61",
   "metadata": {},
   "outputs": [
    {
     "name": "stdout",
     "output_type": "stream",
     "text": [
      "20\n",
      "RCPIT\n",
      "-1\n",
      "ruprihS TIPCR evoL I\n",
      "I Love RCPIT\n",
      "ILv\n",
      "I Love Rcpit Shirpur\n",
      "2\n",
      "I LOVE RCPIT SHIRPUR\n"
     ]
    }
   ],
   "source": [
    "string=\"I Love RCPIT Shirpur\"\n",
    "print(len(string))\n",
    "print(string[7:12])\n",
    "print(string.find(\"s\"))\n",
    "print(string[::-1])\n",
    "print(string[:12])\n",
    "print(string[:5:2])\n",
    "print(string.title())\n",
    "print(string.count(\"I\"))\n",
    "print(string.upper())"
   ]
  },
  {
   "cell_type": "code",
   "execution_count": 122,
   "id": "41fd8be0",
   "metadata": {},
   "outputs": [
    {
     "name": "stdout",
     "output_type": "stream",
     "text": [
      "your mobile number is valid in india\n",
      "the mobile number is correct\n"
     ]
    }
   ],
   "source": [
    "num=input(\"enter your mobile number\")\n",
    "\n",
    "if(num.isdigit()):\n",
    "    if len(num)==10:\n",
    "        if num.startswith(\"9\" or \"8\" or \"7\" or \"6\"):\n",
    "            print(\"your mobile number is valid in india\")\n",
    "        else:\n",
    "            print(\"your mobile number is not valid in india\")\n",
    "        print(\"the mobile number is correct\")\n",
    "    else:\n",
    "        print(\"enter full number\")\n",
    "else:\n",
    "    pass\n"
   ]
  },
  {
   "cell_type": "code",
   "execution_count": 143,
   "id": "fd06a090",
   "metadata": {},
   "outputs": [
    {
     "data": {
      "text/plain": [
       "125"
      ]
     },
     "execution_count": 143,
     "metadata": {},
     "output_type": "execute_result"
    }
   ],
   "source": [
    "def add(x):\n",
    "    \n",
    "    c=x*x*x\n",
    "    #print(c)\n",
    "    return(c)\n",
    "a=5\n",
    "\n",
    "add(a)\n"
   ]
  },
  {
   "cell_type": "code",
   "execution_count": 132,
   "id": "f55d09d3",
   "metadata": {},
   "outputs": [
    {
     "name": "stdout",
     "output_type": "stream",
     "text": [
      "sum = 10\n",
      "mul is=  25\n",
      "division is = 1.0\n",
      "subs is = 0\n"
     ]
    }
   ],
   "source": [
    "def arthmatic(a,b):\n",
    "    sum=a+b\n",
    "    sub=a-b\n",
    "    div=a/b\n",
    "    mul=a*b\n",
    "    return sum,sub,div,mul\n",
    "a=int(input(\"Enter the num1 :\"))\n",
    "b=int(input(\"enter the num2 :\"))\n",
    "sum,sub,div,mul=arthmatic(a,b)\n",
    "print(\"sum =\",sum)\n",
    "print(\"mul is= \",mul)\n",
    "print(\"division is =\",div)\n",
    "print(\"subs is =\",sub)"
   ]
  },
  {
   "cell_type": "code",
   "execution_count": 139,
   "id": "953420f7",
   "metadata": {},
   "outputs": [
    {
     "name": "stdout",
     "output_type": "stream",
     "text": [
      "the simple intrest is 250.0\n"
     ]
    }
   ],
   "source": [
    "def simple(n,p,r):\n",
    "    simple_int = (p*n*r)//100\n",
    "    return simple_int\n",
    "n=int(input(\"enter the amount :\"))\n",
    "p=int(input(\"Enter the period :\"))\n",
    "r=float(input(\"enter the rate of interest :\"))\n",
    "simple_int=simple(n,p,r)\n",
    "print(\"the simple intrest is\",simple_int)"
   ]
  },
  {
   "cell_type": "code",
   "execution_count": 145,
   "id": "4e5ceaa4",
   "metadata": {},
   "outputs": [
    {
     "name": "stdout",
     "output_type": "stream",
     "text": [
      "the cube of number is : 8\n"
     ]
    }
   ],
   "source": [
    "def cubeofnum(x):\n",
    "    cube=x*x*x\n",
    "    return cube\n",
    "num=int(input(\"enter the number\"))\n",
    "cube=cubeofnum(num)\n",
    "print(\"the cube of number is :\",cube)"
   ]
  },
  {
   "cell_type": "code",
   "execution_count": 147,
   "id": "7970277d",
   "metadata": {},
   "outputs": [
    {
     "name": "stdout",
     "output_type": "stream",
     "text": [
      "the area of rectangle is  4\n",
      "the perimeter of rectangle is  8\n"
     ]
    }
   ],
   "source": [
    "def area(l,b):\n",
    "    area=l*b\n",
    "    peri=2*(l+b)\n",
    "    return area ,peri\n",
    "lenth=int(input(\"enter the length\"))\n",
    "bri =int(input(\"enter the bridth\"))\n",
    "area ,peri = area(lenth,bri)\n",
    "print(\"the area of rectangle is \",area)\n",
    "print(\"the perimeter of rectangle is \",peri)"
   ]
  },
  {
   "cell_type": "code",
   "execution_count": 148,
   "id": "0843b6f5",
   "metadata": {},
   "outputs": [
    {
     "name": "stdout",
     "output_type": "stream",
     "text": [
      "the cube of number is : 4\n"
     ]
    }
   ],
   "source": [
    "def power(x,y):\n",
    "    ans=x**y\n",
    "    return ans\n",
    "num1=int(input(\"enter the number 1\"))\n",
    "num2=int(input(\"enter the number 2\"))\n",
    "val=power(num1,num2)\n",
    "print(\"the Answer is :\",val)"
   ]
  },
  {
   "cell_type": "code",
   "execution_count": 158,
   "id": "15deeb19",
   "metadata": {},
   "outputs": [
    {
     "name": "stdout",
     "output_type": "stream",
     "text": [
      "odd number 5\n"
     ]
    }
   ],
   "source": [
    "def any(x):\n",
    "    if x%2==0:\n",
    "       \n",
    "        print(\"even number\",x)\n",
    "    else:\n",
    "       \n",
    "        print(\"odd number\",x)\n",
    "    \n",
    "\n",
    "a=int(input(\"Enter the number :\"))\n",
    "\n",
    "any(a)\n"
   ]
  },
  {
   "cell_type": "code",
   "execution_count": null,
   "id": "28552441",
   "metadata": {},
   "outputs": [],
   "source": [
    "for num in range(1,101):\n",
    "    if num > 1:\n",
    "        for i in range(2,num):\n",
    "            if(num%i)==0:\n",
    "                break\n",
    "            else:\n",
    "                print(num)\n",
    "    "
   ]
  },
  {
   "cell_type": "code",
   "execution_count": 179,
   "id": "595750a0",
   "metadata": {},
   "outputs": [
    {
     "name": "stdout",
     "output_type": "stream",
     "text": [
      "\n",
      "\n",
      "\n",
      "1. Addition\n",
      "2. substraction\n",
      "3. multiplication\n",
      "4. division\n",
      "5. Area of cirle\n",
      "6. circumferance of circle\n",
      "7. Area of rectangle\n",
      "8. Volume of Sphere\n",
      "9. Area of Sphere\n",
      "10.Area of Square\n",
      "11.Area of Right angle triagle \n",
      "12.Area of equilateral triangle \n",
      "13.Perimeter of reactangle\n",
      "14.area of the triagle\n"
     ]
    },
    {
     "name": "stdout",
     "output_type": "stream",
     "text": [
      "the area of rectangle is  3640\n",
      "\n",
      "\n",
      "\n",
      "1. Addition\n",
      "2. substraction\n",
      "3. multiplication\n",
      "4. division\n",
      "5. Area of cirle\n",
      "6. circumferance of circle\n",
      "7. Area of rectangle\n",
      "8. Volume of Sphere\n",
      "9. Area of Sphere\n",
      "10.Area of Square\n",
      "11.Area of Right angle triagle \n",
      "12.Area of equilateral triangle \n",
      "13.Perimeter of reactangle\n",
      "14.area of the triagle\n"
     ]
    },
    {
     "ename": "SystemExit",
     "evalue": "",
     "output_type": "error",
     "traceback": [
      "An exception has occurred, use %tb to see the full traceback.\n",
      "\u001b[1;31mSystemExit\u001b[0m\n"
     ]
    }
   ],
   "source": [
    "import sys\n",
    "import math\n",
    "def add():\n",
    "    a=float(input(\"Enter first number :\"))\n",
    "    b=float(input(\"Enter second number :\"))\n",
    "    ans =a+b\n",
    "    print(\"The Addition is \",ans)\n",
    "def sub():\n",
    "    a=float(input(\"Enter first number :\"))\n",
    "    b=float(input(\"Enter second number :\"))\n",
    "    ans =a-b\n",
    "    print(\"The substration is \",ans)\n",
    "def mul():\n",
    "    a=float(input(\"Enter first number :\"))\n",
    "    b=float(input(\"Enter second number :\"))\n",
    "    ans =a*b\n",
    "    print(\"The multiplication is \",ans)\n",
    "def div():\n",
    "    a=float(input(\"Enter first number :\"))\n",
    "    b=float(input(\"Enter second number :\"))\n",
    "    ans =a/b\n",
    "    print(\"The Division is \",ans)\n",
    "def area_circle():\n",
    "    r=float(input(\"Enter the radius of Circle :\"))\n",
    "    area=math.pi*r**2\n",
    "    print(\"Area of circle is :-\",area)\n",
    "def circumference():\n",
    "    r=float(input(\"Enter the radius of Circle :\"))\n",
    "    circum = 2*math.pi*r\n",
    "    print(\"The cicumference of circle is :-\",circum)\n",
    "def area_rectangle():\n",
    "    length=int(input(\"enter the length\"))\n",
    "    bri =int(input(\"enter the bridth\"))\n",
    "    area =length*bri\n",
    "    print(\"the area of rectangle is \",area)\n",
    "def vol_sphere():\n",
    "    r=float(input(\"Enter the radius of sphere :\"))\n",
    "    v = (4/3)*math.pi*r**3\n",
    "    print(\"The volue of sphere is : \",v)\n",
    "def area_sphere():\n",
    "    r=float(input(\"Enter the radius of sphere :\"))\n",
    "    area=4*math.pi*r**2\n",
    "    print(\"The area area of sphere is :\",area)\n",
    "def area_square():\n",
    "    s=float(input(\"enter the side of square\"))\n",
    "    area=s**2\n",
    "    print(\"The area of square is\",area)\n",
    "def rat():\n",
    "    a=float(input(\"enter the 1st side\"))\n",
    "    b=float(input(\"enter the 2nd side\"))\n",
    "    area=(a*b)/2\n",
    "    print(\"area of right of triangle is :\",area)\n",
    "def eqt():\n",
    "    a=float(input(\"enter the side\"))\n",
    "    area=(math.sqrt(3)/4)*a**2\n",
    "    print(\"area of right of triangle is :\",area)\n",
    "def peri():\n",
    "    a=float(input(\"enter the length :\"))\n",
    "    b=float(input(\"enter the bridth :\"))\n",
    "    area=(a+b)*2\n",
    "    print(\"perimiter of rectangle is :\",area)\n",
    "def area_tri():\n",
    "    a=float(input(\"enter the hight of triangle :\"))\n",
    "    b=float(input(\"enter the base of triangle :\"))\n",
    "    area=(a*b)/2\n",
    "    print(\"area of the triangle is :\",area)\n",
    "while True:\n",
    "    print(\"\\n\\n\\n1. Addition\")\n",
    "    print(\"2. substraction\")\n",
    "    print(\"3. multiplication\")\n",
    "    print(\"4. division\")\n",
    "    print(\"5. Area of cirle\")\n",
    "    print(\"6. circumferance of circle\")\n",
    "    print(\"7. Area of rectangle\")\n",
    "    print(\"8. Volume of Sphere\")\n",
    "    print(\"9. Area of Sphere\")\n",
    "    print(\"10.Area of Square\")\n",
    "    print(\"11.Area of Right angle triagle \")\n",
    "    print(\"12.Area of equilateral triangle \")\n",
    "    print(\"13.Perimeter of reactangle\")\n",
    "    print(\"14.area of the triagle\")\n",
    "    ch=int(input(\"Enter your choice \"))\n",
    "\n",
    "    if ch==1:\n",
    "        add()\n",
    "    elif ch==2:\n",
    "        sub()\n",
    "    elif ch==3:\n",
    "        mul()\n",
    "    elif ch==4:\n",
    "        div()\n",
    "    elif ch==5:\n",
    "        area_circle()\n",
    "    elif ch==6:\n",
    "        circumference()\n",
    "    elif ch==7:\n",
    "        area_rectangle()\n",
    "    elif ch==8:\n",
    "        vol_sphere()\n",
    "    elif ch==9:\n",
    "        area_sphere()\n",
    "    elif ch==10:\n",
    "        area_square()\n",
    "    elif ch==11:\n",
    "        rat()\n",
    "    elif ch==12:\n",
    "        eqt()\n",
    "    elif ch==13:\n",
    "        peri()\n",
    "    elif ch==14:\n",
    "        area_tri()\n",
    "    elif ch==0:\n",
    "        sys.exit()\n",
    "    else:\n",
    "        print(\"Enter valid choice...\")"
   ]
  },
  {
   "cell_type": "code",
   "execution_count": null,
   "id": "cf8afdcb",
   "metadata": {},
   "outputs": [],
   "source": []
  }
 ],
 "metadata": {
  "kernelspec": {
   "display_name": "Python 3 (ipykernel)",
   "language": "python",
   "name": "python3"
  },
  "language_info": {
   "codemirror_mode": {
    "name": "ipython",
    "version": 3
   },
   "file_extension": ".py",
   "mimetype": "text/x-python",
   "name": "python",
   "nbconvert_exporter": "python",
   "pygments_lexer": "ipython3",
   "version": "3.11.5"
  }
 },
 "nbformat": 4,
 "nbformat_minor": 5
}
